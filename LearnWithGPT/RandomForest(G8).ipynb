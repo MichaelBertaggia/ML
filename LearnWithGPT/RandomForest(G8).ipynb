{
 "cells": [
  {
   "cell_type": "code",
   "execution_count": 15,
   "id": "5c005131-0a5b-4049-93a5-597d65a86a1e",
   "metadata": {},
   "outputs": [
    {
     "name": "stdout",
     "output_type": "stream",
     "text": [
      "Accuratezza del Random Forest: 1.00\n"
     ]
    }
   ],
   "source": [
    "from sklearn.ensemble import RandomForestClassifier\n",
    "from sklearn.datasets import load_iris\n",
    "from sklearn.model_selection import train_test_split\n",
    "from sklearn.metrics import accuracy_score\n",
    "\n",
    "# Carichiamo il dataset Iris\n",
    "data = load_iris()\n",
    "X = data.data\n",
    "y = data.target\n",
    "\n",
    "# Suddivisione in Training e Test Set con random_state=42\n",
    "X_train, X_test, y_train, y_test = train_test_split(X, y, test_size=0.2, random_state=42)\n",
    "\n",
    "# Creiamo il modello Random Forest con 10 alberi (n_estimators=10)\n",
    "modello_rf = RandomForestClassifier(n_estimators=12, random_state=42)\n",
    "modello_rf.fit(X_train, y_train)\n",
    "\n",
    "# Facciamo previsioni\n",
    "y_pred_rf = modello_rf.predict(X_test)\n",
    "\n",
    "# Calcoliamo l'accuratezza\n",
    "accuracy_rf = accuracy_score(y_test, y_pred_rf)\n",
    "print(f\"Accuratezza del Random Forest: {accuracy_rf:.2f}\")\n"
   ]
  },
  {
   "cell_type": "code",
   "execution_count": 11,
   "id": "52bd9bd6-5c8d-4239-ad52-4dc8832b7775",
   "metadata": {},
   "outputs": [
    {
     "name": "stdout",
     "output_type": "stream",
     "text": [
      "Accuratezza del Decision Tree: 0.93\n"
     ]
    }
   ],
   "source": [
    "from sklearn.tree import DecisionTreeClassifier\n",
    "\n",
    "# Creiamo un singolo Decision Tree\n",
    "modello_dt = DecisionTreeClassifier(random_state=42)\n",
    "modello_dt.fit(X_train, y_train)\n",
    "\n",
    "# Facciamo previsioni\n",
    "y_pred_dt = modello_dt.predict(X_test)\n",
    "\n",
    "# Calcoliamo l'accuratezza\n",
    "accuracy_dt = accuracy_score(y_test, y_pred_dt)\n",
    "print(f\"Accuratezza del Decision Tree: {accuracy_dt:.2f}\")\n"
   ]
  },
  {
   "cell_type": "code",
   "execution_count": 16,
   "id": "03afbbcc-ad3b-418b-9f42-efaf14c3f8da",
   "metadata": {},
   "outputs": [
    {
     "name": "stdout",
     "output_type": "stream",
     "text": [
      "Random State | Decision Tree Accuracy | Random Forest Accuracy\n",
      "--------------------------------------------------\n",
      "1            | 0.97                 | 0.97\n",
      "5            | 0.93                 | 0.93\n",
      "7            | 0.90                 | 0.87\n",
      "10           | 0.97                 | 1.00\n",
      "15           | 0.97                 | 0.97\n",
      "21           | 0.93                 | 0.93\n",
      "42           | 1.00                 | 1.00\n",
      "55           | 0.97                 | 0.97\n",
      "77           | 0.90                 | 0.83\n",
      "99           | 0.93                 | 0.93\n"
     ]
    }
   ],
   "source": [
    "from sklearn.ensemble import RandomForestClassifier\n",
    "from sklearn.tree import DecisionTreeClassifier\n",
    "from sklearn.datasets import load_iris\n",
    "from sklearn.model_selection import train_test_split\n",
    "from sklearn.metrics import accuracy_score\n",
    "\n",
    "# Carichiamo il dataset Iris\n",
    "data = load_iris()\n",
    "X = data.data\n",
    "y = data.target\n",
    "\n",
    "# Lista di random_state da testare\n",
    "random_states = [1, 5, 7, 10, 15, 21, 42, 55, 77, 99]\n",
    "\n",
    "# Eseguiamo il test su ogni random_state\n",
    "print(\"Random State | Decision Tree Accuracy | Random Forest Accuracy\")\n",
    "print(\"-\" * 50)\n",
    "\n",
    "for rs in random_states:\n",
    "    # Suddivisione in Training e Test Set\n",
    "    X_train, X_test, y_train, y_test = train_test_split(X, y, test_size=0.2, random_state=rs)\n",
    "\n",
    "    # Decision Tree\n",
    "    modello_dt = DecisionTreeClassifier(random_state=rs)\n",
    "    modello_dt.fit(X_train, y_train)\n",
    "    y_pred_dt = modello_dt.predict(X_test)\n",
    "    accuracy_dt = accuracy_score(y_test, y_pred_dt)\n",
    "\n",
    "    # Random Forest con 50 alberi\n",
    "    modello_rf = RandomForestClassifier(n_estimators=50, random_state=rs)\n",
    "    modello_rf.fit(X_train, y_train)\n",
    "    y_pred_rf = modello_rf.predict(X_test)\n",
    "    accuracy_rf = accuracy_score(y_test, y_pred_rf)\n",
    "\n",
    "    # Stampiamo i risultati\n",
    "    print(f\"{rs:<12} | {accuracy_dt:.2f}                 | {accuracy_rf:.2f}\")\n"
   ]
  },
  {
   "cell_type": "code",
   "execution_count": 4,
   "id": "0eeccb16-2e87-4365-b2db-668b2cada3be",
   "metadata": {},
   "outputs": [
    {
     "name": "stdout",
     "output_type": "stream",
     "text": [
      "Random State | Decision Tree Accuracy | Random Forest Accuracy\n",
      "--------------------------------------------------\n",
      "1            | 0.86                 | 0.97\n",
      "5            | 0.86                 | 0.94\n",
      "7            | 0.92                 | 1.00\n",
      "10           | 0.94                 | 0.94\n",
      "15           | 0.92                 | 1.00\n",
      "21           | 0.86                 | 1.00\n",
      "42           | 0.94                 | 1.00\n",
      "55           | 0.89                 | 1.00\n",
      "77           | 0.89                 | 1.00\n",
      "99           | 0.89                 | 0.97\n",
      "\n",
      "Media Accuracy Decision Tree: 0.897\n",
      "Media Accuracy Random Forest: 0.983\n"
     ]
    }
   ],
   "source": [
    "import numpy as np\n",
    "from sklearn.ensemble import RandomForestClassifier\n",
    "from sklearn.tree import DecisionTreeClassifier\n",
    "from sklearn.datasets import load_wine\n",
    "from sklearn.model_selection import train_test_split\n",
    "from sklearn.metrics import accuracy_score\n",
    "\n",
    "# Carichiamo il dataset Wine\n",
    "data = load_wine()\n",
    "X = data.data\n",
    "y = data.target\n",
    "\n",
    "# Lista di random_state da testare\n",
    "random_states = [1, 5, 7, 10, 15, 21, 42, 55, 77, 99]\n",
    "\n",
    "# Eseguiamo il test su ogni random_state\n",
    "print(\"Random State | Decision Tree Accuracy | Random Forest Accuracy\")\n",
    "print(\"-\" * 50)\n",
    "\n",
    "dt_accuracies = []\n",
    "rf_accuracies = []\n",
    "\n",
    "for rs in random_states:\n",
    "    # Suddivisione in Training e Test Set\n",
    "    X_train, X_test, y_train, y_test = train_test_split(X, y, test_size=0.2, random_state=rs)\n",
    "\n",
    "    # Decision Tree\n",
    "    modello_dt = DecisionTreeClassifier(random_state=rs)\n",
    "    modello_dt.fit(X_train, y_train)\n",
    "    y_pred_dt = modello_dt.predict(X_test)\n",
    "    accuracy_dt = accuracy_score(y_test, y_pred_dt)\n",
    "    dt_accuracies.append(accuracy_dt)\n",
    "\n",
    "    # Random Forest con 50 alberi\n",
    "    modello_rf = RandomForestClassifier(n_estimators=50, random_state=rs)\n",
    "    modello_rf.fit(X_train, y_train)\n",
    "    y_pred_rf = modello_rf.predict(X_test)\n",
    "    accuracy_rf = accuracy_score(y_test, y_pred_rf)\n",
    "    rf_accuracies.append(accuracy_rf)\n",
    "\n",
    "    # Stampiamo i risultati\n",
    "    print(f\"{rs:<12} | {accuracy_dt:.2f}                 | {accuracy_rf:.2f}\")\n",
    "\n",
    "# Calcoliamo la media delle accuratezze\n",
    "dt_mean = np.mean(dt_accuracies)\n",
    "rf_mean = np.mean(rf_accuracies)\n",
    "\n",
    "print(\"\\nMedia Accuracy Decision Tree:\", round(dt_mean, 3))\n",
    "print(\"Media Accuracy Random Forest:\", round(rf_mean, 3))\n"
   ]
  },
  {
   "cell_type": "code",
   "execution_count": 18,
   "id": "2c8bc268-1951-422f-8ecb-08aeb76c2328",
   "metadata": {},
   "outputs": [
    {
     "name": "stdout",
     "output_type": "stream",
     "text": [
      "Random State | Decision Tree Accuracy | Random Forest Accuracy\n",
      "--------------------------------------------------\n",
      "1            | 0.86                 | 0.97\n",
      "5            | 0.86                 | 0.94\n",
      "7            | 0.92                 | 1.00\n",
      "10           | 0.94                 | 0.94\n",
      "15           | 0.92                 | 1.00\n",
      "21           | 0.86                 | 1.00\n",
      "42           | 0.94                 | 1.00\n",
      "55           | 0.89                 | 1.00\n",
      "77           | 0.89                 | 1.00\n",
      "99           | 0.89                 | 0.97\n",
      "\n",
      "Media Accuracy Decision Tree: 0.897\n",
      "Media Accuracy Random Forest: 0.983\n"
     ]
    }
   ],
   "source": [
    "import numpy as np  # Importiamo NumPy\n",
    "from sklearn.ensemble import RandomForestClassifier\n",
    "from sklearn.tree import DecisionTreeClassifier\n",
    "from sklearn.datasets import load_wine\n",
    "from sklearn.model_selection import train_test_split\n",
    "from sklearn.metrics import accuracy_score\n",
    "\n",
    "# Carichiamo il dataset Wine\n",
    "data = load_wine()\n",
    "X = data.data\n",
    "y = data.target\n",
    "\n",
    "# Lista di random_state da testare\n",
    "random_states = [1, 5, 7, 10, 15, 21, 42, 55, 77, 99]\n",
    "\n",
    "# Eseguiamo il test su ogni random_state\n",
    "print(\"Random State | Decision Tree Accuracy | Random Forest Accuracy\")\n",
    "print(\"-\" * 50)\n",
    "\n",
    "dt_accuracies = []\n",
    "rf_accuracies = []\n",
    "\n",
    "for rs in random_states:\n",
    "    # Suddivisione in Training e Test Set\n",
    "    X_train, X_test, y_train, y_test = train_test_split(X, y, test_size=0.2, random_state=rs)\n",
    "\n",
    "    # Decision Tree\n",
    "    modello_dt = DecisionTreeClassifier(random_state=rs)\n",
    "    modello_dt.fit(X_train, y_train)\n",
    "    y_pred_dt = modello_dt.predict(X_test)\n",
    "    accuracy_dt = accuracy_score(y_test, y_pred_dt)\n",
    "    dt_accuracies.append(accuracy_dt)\n",
    "\n",
    "    # Random Forest con 50 alberi\n",
    "    modello_rf = RandomForestClassifier(n_estimators=50, random_state=rs)\n",
    "    modello_rf.fit(X_train, y_train)\n",
    "    y_pred_rf = modello_rf.predict(X_test)\n",
    "    accuracy_rf = accuracy_score(y_test, y_pred_rf)\n",
    "    rf_accuracies.append(accuracy_rf)\n",
    "\n",
    "    # Stampiamo i risultati\n",
    "    print(f\"{rs:<12} | {accuracy_dt:.2f}                 | {accuracy_rf:.2f}\")\n",
    "\n",
    "# Calcoliamo la media delle accuratezze\n",
    "dt_mean = np.mean(dt_accuracies)\n",
    "rf_mean = np.mean(rf_accuracies)\n",
    "\n",
    "print(\"\\nMedia Accuracy Decision Tree:\", round(dt_mean, 3))\n",
    "print(\"Media Accuracy Random Forest:\", round(rf_mean, 3))\n"
   ]
  },
  {
   "cell_type": "code",
   "execution_count": null,
   "id": "7e003131-32dd-488d-9dde-c4c888b7018c",
   "metadata": {},
   "outputs": [],
   "source": []
  }
 ],
 "metadata": {
  "kernelspec": {
   "display_name": "Python 3 (ipykernel)",
   "language": "python",
   "name": "python3"
  },
  "language_info": {
   "codemirror_mode": {
    "name": "ipython",
    "version": 3
   },
   "file_extension": ".py",
   "mimetype": "text/x-python",
   "name": "python",
   "nbconvert_exporter": "python",
   "pygments_lexer": "ipython3",
   "version": "3.10.0"
  }
 },
 "nbformat": 4,
 "nbformat_minor": 5
}
