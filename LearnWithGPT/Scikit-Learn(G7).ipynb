{
 "cells": [
  {
   "cell_type": "code",
   "execution_count": 2,
   "id": "4c4e0071-f1de-4a6e-b20e-0dde46d9c4b8",
   "metadata": {},
   "outputs": [
    {
     "name": "stdout",
     "output_type": "stream",
     "text": [
      "Accuratezza del modello: 1.0\n"
     ]
    }
   ],
   "source": [
    "from sklearn.datasets import load_iris\n",
    "from sklearn.model_selection import train_test_split\n",
    "from sklearn.tree import DecisionTreeClassifier\n",
    "from sklearn.metrics import accuracy_score\n",
    "\n",
    "# Carica il dataset Iris\n",
    "data = load_iris()\n",
    "X = data.data  # Features\n",
    "y = data.target  # Etichette di classificazione\n",
    "\n",
    "# Suddividi il dataset in Training (80%) e Test (20%)\n",
    "X_train, X_test, y_train, y_test = train_test_split(X, y, test_size=0.2, random_state=42)\n",
    "\n",
    "# Creiamo il modello Decision Tree\n",
    "modello = DecisionTreeClassifier()\n",
    "modello.fit(X_train, y_train)  # Addestriamo il modello\n",
    "\n",
    "# Facciamo previsioni sul test set\n",
    "y_pred = modello.predict(X_test)\n",
    "\n",
    "# Valutiamo l'accuratezza\n",
    "accuracy = accuracy_score(y_test, y_pred)\n",
    "print(\"Accuratezza del modello:\", accuracy)\n",
    "\n",
    "#Obiettivo. Vedere quanto il modello è accurato nel classificare i fiori!"
   ]
  },
  {
   "cell_type": "code",
   "execution_count": 3,
   "id": "b8dce5c9-d3aa-48c4-964a-3674a922b0d2",
   "metadata": {},
   "outputs": [
    {
     "name": "stdout",
     "output_type": "stream",
     "text": [
      "Accuratezza con random_state=42: 1.0\n",
      "Accuratezza con random_state=7: 0.9\n"
     ]
    }
   ],
   "source": [
    "from sklearn.model_selection import train_test_split\n",
    "from sklearn.tree import DecisionTreeClassifier\n",
    "from sklearn.metrics import accuracy_score\n",
    "from sklearn.datasets import load_iris\n",
    "\n",
    "data = load_iris()\n",
    "X = data.data\n",
    "y = data.target\n",
    "\n",
    "# Primo test con random_state=42\n",
    "X_train, X_test, y_train, y_test = train_test_split(X, y, test_size=0.2, random_state=42)\n",
    "modello = DecisionTreeClassifier()\n",
    "modello.fit(X_train, y_train)\n",
    "y_pred = modello.predict(X_test)\n",
    "print(\"Accuratezza con random_state=42:\", accuracy_score(y_test, y_pred))\n",
    "\n",
    "# Secondo test con random_state=7\n",
    "X_train, X_test, y_train, y_test = train_test_split(X, y, test_size=0.2, random_state=7)\n",
    "modello.fit(X_train, y_train)\n",
    "y_pred = modello.predict(X_test)\n",
    "print(\"Accuratezza con random_state=7:\", accuracy_score(y_test, y_pred))\n"
   ]
  },
  {
   "cell_type": "code",
   "execution_count": 4,
   "id": "f8c30a1f-1186-4d87-b930-d35e4b361a3e",
   "metadata": {},
   "outputs": [
    {
     "name": "stdout",
     "output_type": "stream",
     "text": [
      "Accuratezza con max_depth=3: 1.0\n"
     ]
    }
   ],
   "source": [
    "from sklearn.model_selection import train_test_split\n",
    "from sklearn.tree import DecisionTreeClassifier\n",
    "from sklearn.metrics import accuracy_score\n",
    "from sklearn.datasets import load_iris\n",
    "\n",
    "# Carichiamo il dataset Iris\n",
    "data = load_iris()\n",
    "X = data.data\n",
    "y = data.target\n",
    "\n",
    "# Suddividiamo i dati con random_state=42\n",
    "X_train, X_test, y_train, y_test = train_test_split(X, y, test_size=0.2, random_state=42)\n",
    "\n",
    "# Creiamo il modello con max_depth=3\n",
    "modello = DecisionTreeClassifier(max_depth=3)\n",
    "modello.fit(X_train, y_train)\n",
    "\n",
    "# Facciamo previsioni\n",
    "y_pred = modello.predict(X_test)\n",
    "\n",
    "# Valutiamo l'accuratezza\n",
    "accuracy = accuracy_score(y_test, y_pred)\n",
    "print(\"Accuratezza con max_depth=3:\", accuracy)\n"
   ]
  },
  {
   "cell_type": "code",
   "execution_count": 5,
   "id": "f9a47f1a-480e-4aaa-896d-1b043a8bd3db",
   "metadata": {},
   "outputs": [
    {
     "name": "stdout",
     "output_type": "stream",
     "text": [
      "Accuratezza con max_depth=3: 0.9\n"
     ]
    }
   ],
   "source": [
    "from sklearn.model_selection import train_test_split\n",
    "from sklearn.tree import DecisionTreeClassifier\n",
    "from sklearn.metrics import accuracy_score\n",
    "from sklearn.datasets import load_iris\n",
    "\n",
    "# Carichiamo il dataset Iris\n",
    "data = load_iris()\n",
    "X = data.data\n",
    "y = data.target\n",
    "\n",
    "# Suddividiamo i dati con random_state=42\n",
    "X_train, X_test, y_train, y_test = train_test_split(X, y, test_size=0.2, random_state=7)\n",
    "\n",
    "# Creiamo il modello con max_depth=3\n",
    "modello = DecisionTreeClassifier(max_depth=3)\n",
    "modello.fit(X_train, y_train)\n",
    "\n",
    "# Facciamo previsioni\n",
    "y_pred = modello.predict(X_test)\n",
    "\n",
    "# Valutiamo l'accuratezza\n",
    "accuracy = accuracy_score(y_test, y_pred)\n",
    "print(\"Accuratezza con max_depth=3:\", accuracy)\n"
   ]
  },
  {
   "cell_type": "code",
   "execution_count": 6,
   "id": "6727e7c3-bad3-41a0-b0e9-530e3dac7927",
   "metadata": {},
   "outputs": [
    {
     "name": "stdout",
     "output_type": "stream",
     "text": [
      "Max Depth = 1 → Accuracy = 0.63\n",
      "Max Depth = 2 → Accuracy = 0.97\n",
      "Max Depth = 3 → Accuracy = 1.00\n",
      "Max Depth = 4 → Accuracy = 1.00\n",
      "Max Depth = 5 → Accuracy = 1.00\n",
      "Max Depth = 6 → Accuracy = 1.00\n",
      "Max Depth = 7 → Accuracy = 1.00\n",
      "Max Depth = 8 → Accuracy = 1.00\n",
      "Max Depth = 9 → Accuracy = 1.00\n",
      "Max Depth = 10 → Accuracy = 1.00\n",
      "Max Depth = 11 → Accuracy = 1.00\n"
     ]
    }
   ],
   "source": [
    "from sklearn.datasets import load_iris\n",
    "from sklearn.model_selection import train_test_split\n",
    "from sklearn.tree import DecisionTreeClassifier\n",
    "from sklearn.metrics import accuracy_score\n",
    "\n",
    "# Carichiamo il dataset Iris\n",
    "data = load_iris()\n",
    "X = data.data\n",
    "y = data.target\n",
    "\n",
    "# Suddividiamo i dati in Training (80%) e Test (20%)\n",
    "X_train, X_test, y_train, y_test = train_test_split(X, y, test_size=0.2, random_state=42)\n",
    "\n",
    "# Testiamo diversi valori di max_depth\n",
    "for depth in range(1, 12):  # Da 1 a 11\n",
    "    modello = DecisionTreeClassifier(max_depth=depth)\n",
    "    modello.fit(X_train, y_train)\n",
    "    y_pred = modello.predict(X_test)\n",
    "    accuracy = accuracy_score(y_test, y_pred)\n",
    "    print(f\"Max Depth = {depth} → Accuracy = {accuracy:.2f}\")\n"
   ]
  },
  {
   "cell_type": "code",
   "execution_count": 7,
   "id": "2e99eeaf-9c40-45d4-8d68-189eb433e3ef",
   "metadata": {},
   "outputs": [
    {
     "name": "stdout",
     "output_type": "stream",
     "text": [
      "Max Depth = 1 → Accuracy = 0.60\n",
      "Max Depth = 2 → Accuracy = 0.87\n",
      "Max Depth = 3 → Accuracy = 0.90\n",
      "Max Depth = 4 → Accuracy = 0.87\n",
      "Max Depth = 5 → Accuracy = 0.90\n",
      "Max Depth = 6 → Accuracy = 0.87\n",
      "Max Depth = 7 → Accuracy = 0.87\n",
      "Max Depth = 8 → Accuracy = 0.90\n",
      "Max Depth = 9 → Accuracy = 0.90\n",
      "Max Depth = 10 → Accuracy = 0.90\n",
      "Max Depth = 11 → Accuracy = 0.90\n"
     ]
    }
   ],
   "source": [
    "from sklearn.datasets import load_iris\n",
    "from sklearn.model_selection import train_test_split\n",
    "from sklearn.tree import DecisionTreeClassifier\n",
    "from sklearn.metrics import accuracy_score\n",
    "\n",
    "# Carichiamo il dataset Iris\n",
    "data = load_iris()\n",
    "X = data.data\n",
    "y = data.target\n",
    "\n",
    "# Suddividiamo i dati in Training (80%) e Test (20%)\n",
    "X_train, X_test, y_train, y_test = train_test_split(X, y, test_size=0.2, random_state=7)\n",
    "\n",
    "# Testiamo diversi valori di max_depth\n",
    "for depth in range(1, 12):  # Da 1 a 11\n",
    "    modello = DecisionTreeClassifier(max_depth=depth)\n",
    "    modello.fit(X_train, y_train)\n",
    "    y_pred = modello.predict(X_test)\n",
    "    accuracy = accuracy_score(y_test, y_pred)\n",
    "    print(f\"Max Depth = {depth} → Accuracy = {accuracy:.2f}\")"
   ]
  },
  {
   "cell_type": "code",
   "execution_count": 8,
   "id": "b975fb43-f826-448d-a342-5a5641cdb6d4",
   "metadata": {},
   "outputs": [
    {
     "name": "stdout",
     "output_type": "stream",
     "text": [
      "Max Depth = 1 → Accuracy = 0.60\n",
      "Max Depth = 2 → Accuracy = 0.93\n",
      "Max Depth = 3 → Accuracy = 0.93\n",
      "Max Depth = 4 → Accuracy = 0.93\n",
      "Max Depth = 5 → Accuracy = 0.93\n",
      "Max Depth = 6 → Accuracy = 0.93\n",
      "Max Depth = 7 → Accuracy = 0.93\n",
      "Max Depth = 8 → Accuracy = 0.93\n",
      "Max Depth = 9 → Accuracy = 0.93\n",
      "Max Depth = 10 → Accuracy = 0.93\n",
      "Max Depth = 11 → Accuracy = 0.93\n"
     ]
    }
   ],
   "source": [
    "from sklearn.datasets import load_iris\n",
    "from sklearn.model_selection import train_test_split\n",
    "from sklearn.tree import DecisionTreeClassifier\n",
    "from sklearn.metrics import accuracy_score\n",
    "\n",
    "# Carichiamo il dataset Iris\n",
    "data = load_iris()\n",
    "X = data.data\n",
    "y = data.target\n",
    "\n",
    "# Suddividiamo i dati in Training (80%) e Test (20%)\n",
    "X_train, X_test, y_train, y_test = train_test_split(X, y, test_size=0.2, random_state=99)\n",
    "\n",
    "# Testiamo diversi valori di max_depth\n",
    "for depth in range(1, 12):  # Da 1 a 11\n",
    "    modello = DecisionTreeClassifier(max_depth=depth)\n",
    "    modello.fit(X_train, y_train)\n",
    "    y_pred = modello.predict(X_test)\n",
    "    accuracy = accuracy_score(y_test, y_pred)\n",
    "    print(f\"Max Depth = {depth} → Accuracy = {accuracy:.2f}\")"
   ]
  },
  {
   "cell_type": "code",
   "execution_count": null,
   "id": "d8baf210-3017-46c4-9624-738fe9818e0b",
   "metadata": {},
   "outputs": [],
   "source": []
  }
 ],
 "metadata": {
  "kernelspec": {
   "display_name": "Python 3 (ipykernel)",
   "language": "python",
   "name": "python3"
  },
  "language_info": {
   "codemirror_mode": {
    "name": "ipython",
    "version": 3
   },
   "file_extension": ".py",
   "mimetype": "text/x-python",
   "name": "python",
   "nbconvert_exporter": "python",
   "pygments_lexer": "ipython3",
   "version": "3.10.0"
  }
 },
 "nbformat": 4,
 "nbformat_minor": 5
}
